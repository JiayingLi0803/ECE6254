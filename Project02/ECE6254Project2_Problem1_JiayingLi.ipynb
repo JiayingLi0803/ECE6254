{
 "cells": [
  {
   "cell_type": "markdown",
   "id": "656e3d52",
   "metadata": {},
   "source": [
    "# About the project:\n",
    "+ All of the required answers are printed in the output cells; \n",
    "+ ``Step X`` is the corresponding subquestions under each problem;\n",
    "+ Timer is printed for time-consuming cells and algorithms."
   ]
  },
  {
   "cell_type": "code",
   "execution_count": 1,
   "id": "61e62609",
   "metadata": {},
   "outputs": [],
   "source": [
    "import numpy as np\n",
    "from sklearn.datasets import load_boston\n",
    "from sklearn.model_selection import train_test_split, KFold, cross_val_score\n",
    "from sklearn import preprocessing\n",
    "from sklearn import linear_model\n",
    "from sklearn.metrics import mean_squared_error\n",
    "import time"
   ]
  },
  {
   "cell_type": "code",
   "execution_count": 2,
   "id": "76dbf03c",
   "metadata": {},
   "outputs": [],
   "source": [
    "boston = load_boston()\n",
    "X = boston.data\n",
    "y = boston.target"
   ]
  },
  {
   "cell_type": "markdown",
   "id": "439feaee",
   "metadata": {},
   "source": [
    "# Problem 1"
   ]
  },
  {
   "cell_type": "markdown",
   "id": "056a36bf",
   "metadata": {},
   "source": [
    "## Preprocessing"
   ]
  },
  {
   "cell_type": "code",
   "execution_count": 3,
   "id": "c7bffc17",
   "metadata": {},
   "outputs": [
    {
     "name": "stdout",
     "output_type": "stream",
     "text": [
      "[[6.3200e-03 1.8000e+01 2.3100e+00 ... 1.5300e+01 3.9690e+02 4.9800e+00]\n",
      " [2.7310e-02 0.0000e+00 7.0700e+00 ... 1.7800e+01 3.9690e+02 9.1400e+00]\n",
      " [2.7290e-02 0.0000e+00 7.0700e+00 ... 1.7800e+01 3.9283e+02 4.0300e+00]\n",
      " ...\n",
      " [6.0760e-02 0.0000e+00 1.1930e+01 ... 2.1000e+01 3.9690e+02 5.6400e+00]\n",
      " [1.0959e-01 0.0000e+00 1.1930e+01 ... 2.1000e+01 3.9345e+02 6.4800e+00]\n",
      " [4.7410e-02 0.0000e+00 1.1930e+01 ... 2.1000e+01 3.9690e+02 7.8800e+00]]\n"
     ]
    }
   ],
   "source": [
    "print(X)"
   ]
  },
  {
   "cell_type": "code",
   "execution_count": 4,
   "id": "7074ee0b",
   "metadata": {},
   "outputs": [],
   "source": [
    "X_train, X_test, y_train, y_test = train_test_split(X, y, test_size=(len(X)-400)/len(X), random_state=42)"
   ]
  },
  {
   "cell_type": "code",
   "execution_count": 5,
   "id": "06d82630",
   "metadata": {},
   "outputs": [
    {
     "name": "stdout",
     "output_type": "stream",
     "text": [
      "X_train size:  400\n",
      "X_test size:  106\n",
      "y_train size:  400\n",
      "X_test size:  106\n"
     ]
    }
   ],
   "source": [
    "print(\"X_train size: \", len(X_train))\n",
    "print(\"X_test size: \", len(X_test))\n",
    "print(\"y_train size: \", len(y_train))\n",
    "print(\"X_test size: \", len(y_test))"
   ]
  },
  {
   "cell_type": "code",
   "execution_count": 6,
   "id": "3a197e44",
   "metadata": {},
   "outputs": [
    {
     "name": "stdout",
     "output_type": "stream",
     "text": [
      "mean:  [3.5883762e+00 1.1597500e+01 1.0968900e+01 7.2500000e-02 5.5653925e-01\n",
      " 6.3208700e+00 6.8586500e+01 3.8081225e+00 9.3175000e+00 4.0321500e+02\n",
      " 1.8305750e+01 3.5706645e+02 1.2420675e+01]\n",
      "std: [8.88523993e+00 2.31879385e+01 6.89623233e+00 2.59313999e-01\n",
      " 1.17922423e-01 7.09658614e-01 2.79528025e+01 2.13065150e+00\n",
      " 8.54498062e+00 1.65614292e+02 2.22788957e+00 9.01651569e+01\n",
      " 7.08244586e+00]\n"
     ]
    }
   ],
   "source": [
    "scaler = preprocessing.StandardScaler().fit(X_train)\n",
    "print(\"mean: \", scaler.mean_)\n",
    "print(\"std:\", scaler.scale_)\n",
    "X_train_scaled = scaler.transform(X_train)\n",
    "X_test_scaled = scaler.transform(X_test)"
   ]
  },
  {
   "cell_type": "markdown",
   "id": "ef178836",
   "metadata": {},
   "source": [
    "## Step 1: MSE\n",
    "$\\hat\\theta = (A^TA)^{-1}A^Ty$"
   ]
  },
  {
   "cell_type": "code",
   "execution_count": 7,
   "id": "9f25160b",
   "metadata": {},
   "outputs": [],
   "source": [
    "def MSE(theta_hat, A, y):\n",
    "    return 1/len(y)*np.sum(np.power(y-np.dot(A, theta_hat),2))"
   ]
  },
  {
   "cell_type": "code",
   "execution_count": 24,
   "id": "91f68d43",
   "metadata": {},
   "outputs": [
    {
     "name": "stdout",
     "output_type": "stream",
     "text": [
      "Mean-Squared Error:  23.561522590845065\n"
     ]
    }
   ],
   "source": [
    "A_train = np.insert(X_train, 0, values = np.array([[1]*len(X_train)]), axis = 1)\n",
    "A_test = np.insert(X_test, 0, values = np.array([[1]*len(X_test)]), axis = 1)\n",
    "theta_hat = np.dot(np.dot(np.linalg.inv(np.dot(A_train.T, A_train)),A_train.T),y_train)\n",
    "y_pred = np.dot(A_test, theta_hat)\n",
    "print(\"Mean-Squared Error: \", MSE(theta_hat, A_test, y_test))"
   ]
  },
  {
   "cell_type": "markdown",
   "id": "d53d13ea",
   "metadata": {},
   "source": [
    "## Step 2: Ridge Regression\n",
    "$\\hat\\theta = (A^TA+\\lambda I)^{-1}A^Ty$"
   ]
  },
  {
   "cell_type": "code",
   "execution_count": 9,
   "id": "6da5eefc",
   "metadata": {},
   "outputs": [],
   "source": [
    "def ridge_regression(A, y, lambd=0.2):\n",
    "    I = np.eye(A.shape[1])\n",
    "    I[0][0] = 0\n",
    "    return np.dot(np.dot(np.linalg.inv(np.dot(A.T, A)+lambd*I),A.T),y)"
   ]
  },
  {
   "cell_type": "markdown",
   "id": "c4884fb7",
   "metadata": {},
   "source": [
    "### a. Take example of $\\lambda = 0.2$"
   ]
  },
  {
   "cell_type": "code",
   "execution_count": 10,
   "id": "e8884f15",
   "metadata": {},
   "outputs": [
    {
     "name": "stdout",
     "output_type": "stream",
     "text": [
      "Mean-Squared Error:  23.60489050802226\n"
     ]
    }
   ],
   "source": [
    "theta_r = ridge_regression(A_train, y_train, lambd=0.2)\n",
    "print(\"Mean-Squared Error: \", MSE(theta_r, A_test, y_test))"
   ]
  },
  {
   "cell_type": "markdown",
   "id": "71ce03a2",
   "metadata": {},
   "source": [
    "### b. Find the best $\\lambda$ value\n",
    "A commom way to find out the best $\\lambda$ value is K-folder cross validation. The idea is shown as follows:\n",
    "+ Randomly divide the data into K equal-sized parts;\n",
    "+ Leave leave out part $K$ and put it to the side;\n",
    "+ Fit the model to the other $K-1$ parts (combined) as the training set;\n",
    "+ Use part $K$ as the holdout set to estimate the prediction error;\n",
    "+ Repeat this process $K$ times, once each for the different splits of the data;\n",
    "+ Select the $\\lambda$ in which the cross-validation error is smallest."
   ]
  },
  {
   "cell_type": "code",
   "execution_count": 11,
   "id": "1d323632",
   "metadata": {},
   "outputs": [],
   "source": [
    "def Ridge_find_best(X, y, kfold, lambdas, to_print = True):\n",
    "    kf = KFold(n_splits = kfold, shuffle = True)\n",
    "    best_lambda = 0\n",
    "    best_MSE = 100\n",
    "    for idx, lambda_value in enumerate(lambdas):\n",
    "        sum = 0\n",
    "        for train_index, holdout_index in kf.split(X):\n",
    "            Xtrain, Xholdout = X[train_index], X[holdout_index]\n",
    "            ytrain, yholdout = y[train_index], y[holdout_index]\n",
    "            Atrain = np.insert(Xtrain, 0, values = np.array([[1]*len(Xtrain)]), axis = 1)\n",
    "            Aholdout = np.insert(Xholdout, 0, values = np.array([[1]*len(Xholdout)]), axis = 1)\n",
    "            theta_kf = ridge_regression(Atrain, ytrain, lambd = lambda_value)\n",
    "            sum += MSE(theta_kf, Aholdout, yholdout)\n",
    "        MSE_now = sum/kfold\n",
    "        if MSE_now < best_MSE:\n",
    "            print(\"Current MSE: \", MSE_now, \"; Current lambda: \",lambda_value)\n",
    "            best_MSE = MSE_now\n",
    "            best_lambda = lambda_value\n",
    "    if to_print:\n",
    "        print(\"===========================\")\n",
    "        print(\"The best value of lambda is: \",best_lambda)\n",
    "    return best_lambda"
   ]
  },
  {
   "cell_type": "code",
   "execution_count": 26,
   "id": "7dc7860b",
   "metadata": {},
   "outputs": [
    {
     "name": "stdout",
     "output_type": "stream",
     "text": [
      "Current MSE:  24.320497059965753 ; Current lambda:  0.0\n",
      "Current MSE:  23.753618728614672 ; Current lambda:  0.0001\n",
      "Current MSE:  23.750720799632013 ; Current lambda:  0.0046\n",
      "Current MSE:  23.502454089840576 ; Current lambda:  0.0059\n",
      "Current MSE:  23.464372846781185 ; Current lambda:  0.0223\n",
      "Current MSE:  23.429693170121833 ; Current lambda:  0.045000000000000005\n",
      "Current MSE:  23.410600378348285 ; Current lambda:  0.0466\n",
      "Current MSE:  23.10050759573165 ; Current lambda:  0.0664\n",
      "===========================\n",
      "The best value of lambda is:  0.0664\n",
      "===========================\n",
      "This cell takes 73.7678771018982 seconds to run.\n"
     ]
    }
   ],
   "source": [
    "start_time = time.time()\n",
    "lambda_value = Ridge_find_best(X_train, y_train, 10, np.arange(0,2,0.0001), to_print = True)\n",
    "print(\"===========================\")\n",
    "print(\"This cell takes %s seconds to run.\" % (time.time() - start_time))"
   ]
  },
  {
   "cell_type": "code",
   "execution_count": 27,
   "id": "8bc4f663",
   "metadata": {},
   "outputs": [
    {
     "name": "stdout",
     "output_type": "stream",
     "text": [
      "Mean-Squared Error:  23.573650639588113\n"
     ]
    }
   ],
   "source": [
    "theta_r = ridge_regression(A_train, y_train, lambd=lambda_value)\n",
    "print(\"Mean-Squared Error: \", MSE(theta_r, A_test, y_test))"
   ]
  },
  {
   "cell_type": "markdown",
   "id": "6d84d0d4",
   "metadata": {},
   "source": [
    "### c. Explaination\n",
    "We find that when $\\lambda = 0$, the Mean-Squared Error is the minimum. This is because $\\theta_{Linear Regression}$ is the minimizer of MSE by definition. The problem ($A^TA$ is invertible here) has only one minimum and any value other than $\\theta_{Linear Regression}$ will have higher MSE on the training dataset."
   ]
  },
  {
   "cell_type": "markdown",
   "id": "8e9736ce",
   "metadata": {},
   "source": [
    "## Step 3: LASSO Regression"
   ]
  },
  {
   "cell_type": "markdown",
   "id": "a408c0e1",
   "metadata": {},
   "source": [
    "### a. Take example of $\\lambda = 0.2$"
   ]
  },
  {
   "cell_type": "code",
   "execution_count": 16,
   "id": "436e45c9",
   "metadata": {},
   "outputs": [
    {
     "name": "stdout",
     "output_type": "stream",
     "text": [
      "Coefficients:  [-0.10131917  0.03459379 -0.00436712  0.         -0.          4.01779234\n",
      " -0.01077091 -1.09265737  0.23987994 -0.01316046 -0.74193498  0.01324755\n",
      " -0.59334959]\n",
      "Mean-Squared Error: 24.48\n"
     ]
    }
   ],
   "source": [
    "reg = linear_model.Lasso(alpha = 0.2) # Fill in alpha\n",
    "reg.fit(X_train,y_train)\n",
    "y_pred = reg.predict(X_test)\n",
    "print(\"Coefficients: \", reg.coef_)\n",
    "print(\"Mean-Squared Error: %.2f\" % mean_squared_error(y_test, y_pred))"
   ]
  },
  {
   "cell_type": "markdown",
   "id": "49d45f81",
   "metadata": {},
   "source": [
    "### b. Find the best $\\lambda$ value\n",
    "Another efficient method is to use LassoCV() function directly. It will be faster, but its performace is in terms of R_2 value rather than MSE."
   ]
  },
  {
   "cell_type": "code",
   "execution_count": 17,
   "id": "31853b4e",
   "metadata": {},
   "outputs": [],
   "source": [
    "def Lasso_find_best(X, y, kfold, lambdas, to_print = True):\n",
    "    kf = KFold(n_splits = kfold, shuffle = True)\n",
    "    best_lambda = 0\n",
    "    best_MSE = 100\n",
    "    for idx, lambda_value in enumerate(lambdas):\n",
    "        sum = 0\n",
    "        for train_index, holdout_index in kf.split(X):\n",
    "            Xtrain, Xholdout = X[train_index], X[holdout_index]\n",
    "            ytrain, yholdout = y[train_index], y[holdout_index]\n",
    "            reg = linear_model.Lasso(alpha = lambda_value) # Fill in alpha\n",
    "            reg.fit(Xtrain,ytrain)\n",
    "            ypred = reg.predict(Xholdout)\n",
    "            sum += mean_squared_error(yholdout, ypred)\n",
    "        MSE_now = sum/kfold\n",
    "        if MSE_now < best_MSE:\n",
    "            print(\"Current MSE: \", MSE_now, \"; Current lambda: \",lambda_value)\n",
    "            best_MSE = MSE_now\n",
    "            best_lambda = lambda_value\n",
    "    if to_print:\n",
    "        print(\"===========================\")\n",
    "        print(\"The best value of lambda is: \",best_lambda)\n",
    "    return best_lambda"
   ]
  },
  {
   "cell_type": "code",
   "execution_count": 22,
   "id": "eaa870bd",
   "metadata": {},
   "outputs": [
    {
     "name": "stderr",
     "output_type": "stream",
     "text": [
      "/var/folders/jr/tf9k36ws1956sfj0w8ybnj2m0000gn/T/ipykernel_16152/235148019.py:11: UserWarning: With alpha=0, this algorithm does not converge well. You are advised to use the LinearRegression estimator\n",
      "  reg.fit(Xtrain,ytrain)\n",
      "/Users/jiayingli/opt/anaconda3/lib/python3.9/site-packages/sklearn/linear_model/_coordinate_descent.py:530: UserWarning: Coordinate descent with no regularization may lead to unexpected results and is discouraged.\n",
      "  model = cd_fast.enet_coordinate_descent(\n",
      "/Users/jiayingli/opt/anaconda3/lib/python3.9/site-packages/sklearn/linear_model/_coordinate_descent.py:530: ConvergenceWarning: Objective did not converge. You might want to increase the number of iterations. Duality gap: 4117.201376801888, tolerance: 3.1884527888888896\n",
      "  model = cd_fast.enet_coordinate_descent(\n",
      "/var/folders/jr/tf9k36ws1956sfj0w8ybnj2m0000gn/T/ipykernel_16152/235148019.py:11: UserWarning: With alpha=0, this algorithm does not converge well. You are advised to use the LinearRegression estimator\n",
      "  reg.fit(Xtrain,ytrain)\n",
      "/Users/jiayingli/opt/anaconda3/lib/python3.9/site-packages/sklearn/linear_model/_coordinate_descent.py:530: UserWarning: Coordinate descent with no regularization may lead to unexpected results and is discouraged.\n",
      "  model = cd_fast.enet_coordinate_descent(\n",
      "/Users/jiayingli/opt/anaconda3/lib/python3.9/site-packages/sklearn/linear_model/_coordinate_descent.py:530: ConvergenceWarning: Objective did not converge. You might want to increase the number of iterations. Duality gap: 3946.106814855415, tolerance: 3.2446050555555557\n",
      "  model = cd_fast.enet_coordinate_descent(\n",
      "/var/folders/jr/tf9k36ws1956sfj0w8ybnj2m0000gn/T/ipykernel_16152/235148019.py:11: UserWarning: With alpha=0, this algorithm does not converge well. You are advised to use the LinearRegression estimator\n",
      "  reg.fit(Xtrain,ytrain)\n",
      "/Users/jiayingli/opt/anaconda3/lib/python3.9/site-packages/sklearn/linear_model/_coordinate_descent.py:530: UserWarning: Coordinate descent with no regularization may lead to unexpected results and is discouraged.\n",
      "  model = cd_fast.enet_coordinate_descent(\n",
      "/Users/jiayingli/opt/anaconda3/lib/python3.9/site-packages/sklearn/linear_model/_coordinate_descent.py:530: ConvergenceWarning: Objective did not converge. You might want to increase the number of iterations. Duality gap: 3970.495136183622, tolerance: 3.0794668888888896\n",
      "  model = cd_fast.enet_coordinate_descent(\n",
      "/var/folders/jr/tf9k36ws1956sfj0w8ybnj2m0000gn/T/ipykernel_16152/235148019.py:11: UserWarning: With alpha=0, this algorithm does not converge well. You are advised to use the LinearRegression estimator\n",
      "  reg.fit(Xtrain,ytrain)\n",
      "/Users/jiayingli/opt/anaconda3/lib/python3.9/site-packages/sklearn/linear_model/_coordinate_descent.py:530: UserWarning: Coordinate descent with no regularization may lead to unexpected results and is discouraged.\n",
      "  model = cd_fast.enet_coordinate_descent(\n",
      "/Users/jiayingli/opt/anaconda3/lib/python3.9/site-packages/sklearn/linear_model/_coordinate_descent.py:530: ConvergenceWarning: Objective did not converge. You might want to increase the number of iterations. Duality gap: 4099.244767713954, tolerance: 3.2325255000000004\n",
      "  model = cd_fast.enet_coordinate_descent(\n",
      "/var/folders/jr/tf9k36ws1956sfj0w8ybnj2m0000gn/T/ipykernel_16152/235148019.py:11: UserWarning: With alpha=0, this algorithm does not converge well. You are advised to use the LinearRegression estimator\n",
      "  reg.fit(Xtrain,ytrain)\n",
      "/Users/jiayingli/opt/anaconda3/lib/python3.9/site-packages/sklearn/linear_model/_coordinate_descent.py:530: UserWarning: Coordinate descent with no regularization may lead to unexpected results and is discouraged.\n",
      "  model = cd_fast.enet_coordinate_descent(\n",
      "/Users/jiayingli/opt/anaconda3/lib/python3.9/site-packages/sklearn/linear_model/_coordinate_descent.py:530: ConvergenceWarning: Objective did not converge. You might want to increase the number of iterations. Duality gap: 3730.3104412842554, tolerance: 3.1052949972222224\n",
      "  model = cd_fast.enet_coordinate_descent(\n",
      "/var/folders/jr/tf9k36ws1956sfj0w8ybnj2m0000gn/T/ipykernel_16152/235148019.py:11: UserWarning: With alpha=0, this algorithm does not converge well. You are advised to use the LinearRegression estimator\n",
      "  reg.fit(Xtrain,ytrain)\n",
      "/Users/jiayingli/opt/anaconda3/lib/python3.9/site-packages/sklearn/linear_model/_coordinate_descent.py:530: UserWarning: Coordinate descent with no regularization may lead to unexpected results and is discouraged.\n",
      "  model = cd_fast.enet_coordinate_descent(\n",
      "/Users/jiayingli/opt/anaconda3/lib/python3.9/site-packages/sklearn/linear_model/_coordinate_descent.py:530: ConvergenceWarning: Objective did not converge. You might want to increase the number of iterations. Duality gap: 3953.8758349183836, tolerance: 3.1049186555555552\n",
      "  model = cd_fast.enet_coordinate_descent(\n",
      "/var/folders/jr/tf9k36ws1956sfj0w8ybnj2m0000gn/T/ipykernel_16152/235148019.py:11: UserWarning: With alpha=0, this algorithm does not converge well. You are advised to use the LinearRegression estimator\n",
      "  reg.fit(Xtrain,ytrain)\n",
      "/Users/jiayingli/opt/anaconda3/lib/python3.9/site-packages/sklearn/linear_model/_coordinate_descent.py:530: UserWarning: Coordinate descent with no regularization may lead to unexpected results and is discouraged.\n",
      "  model = cd_fast.enet_coordinate_descent(\n",
      "/Users/jiayingli/opt/anaconda3/lib/python3.9/site-packages/sklearn/linear_model/_coordinate_descent.py:530: ConvergenceWarning: Objective did not converge. You might want to increase the number of iterations. Duality gap: 3910.617995990734, tolerance: 3.0117851972222223\n",
      "  model = cd_fast.enet_coordinate_descent(\n",
      "/var/folders/jr/tf9k36ws1956sfj0w8ybnj2m0000gn/T/ipykernel_16152/235148019.py:11: UserWarning: With alpha=0, this algorithm does not converge well. You are advised to use the LinearRegression estimator\n",
      "  reg.fit(Xtrain,ytrain)\n",
      "/Users/jiayingli/opt/anaconda3/lib/python3.9/site-packages/sklearn/linear_model/_coordinate_descent.py:530: UserWarning: Coordinate descent with no regularization may lead to unexpected results and is discouraged.\n",
      "  model = cd_fast.enet_coordinate_descent(\n",
      "/Users/jiayingli/opt/anaconda3/lib/python3.9/site-packages/sklearn/linear_model/_coordinate_descent.py:530: ConvergenceWarning: Objective did not converge. You might want to increase the number of iterations. Duality gap: 3849.0684026204217, tolerance: 3.2181287888888894\n",
      "  model = cd_fast.enet_coordinate_descent(\n",
      "/var/folders/jr/tf9k36ws1956sfj0w8ybnj2m0000gn/T/ipykernel_16152/235148019.py:11: UserWarning: With alpha=0, this algorithm does not converge well. You are advised to use the LinearRegression estimator\n",
      "  reg.fit(Xtrain,ytrain)\n",
      "/Users/jiayingli/opt/anaconda3/lib/python3.9/site-packages/sklearn/linear_model/_coordinate_descent.py:530: UserWarning: Coordinate descent with no regularization may lead to unexpected results and is discouraged.\n",
      "  model = cd_fast.enet_coordinate_descent(\n",
      "/Users/jiayingli/opt/anaconda3/lib/python3.9/site-packages/sklearn/linear_model/_coordinate_descent.py:530: ConvergenceWarning: Objective did not converge. You might want to increase the number of iterations. Duality gap: 3644.382413175773, tolerance: 2.9701652888888885\n",
      "  model = cd_fast.enet_coordinate_descent(\n",
      "/var/folders/jr/tf9k36ws1956sfj0w8ybnj2m0000gn/T/ipykernel_16152/235148019.py:11: UserWarning: With alpha=0, this algorithm does not converge well. You are advised to use the LinearRegression estimator\n",
      "  reg.fit(Xtrain,ytrain)\n",
      "/Users/jiayingli/opt/anaconda3/lib/python3.9/site-packages/sklearn/linear_model/_coordinate_descent.py:530: UserWarning: Coordinate descent with no regularization may lead to unexpected results and is discouraged.\n",
      "  model = cd_fast.enet_coordinate_descent(\n",
      "/Users/jiayingli/opt/anaconda3/lib/python3.9/site-packages/sklearn/linear_model/_coordinate_descent.py:530: ConvergenceWarning: Objective did not converge. You might want to increase the number of iterations. Duality gap: 3834.927308314762, tolerance: 3.213787375000001\n",
      "  model = cd_fast.enet_coordinate_descent(\n"
     ]
    },
    {
     "name": "stdout",
     "output_type": "stream",
     "text": [
      "Current MSE:  24.15305212949115 ; Current lambda:  0.0\n",
      "Current MSE:  23.93102530886462 ; Current lambda:  0.001\n",
      "Current MSE:  23.74974571379608 ; Current lambda:  0.009000000000000001\n",
      "Current MSE:  23.684635138084552 ; Current lambda:  0.012\n",
      "===========================\n",
      "The best value of lambda is:  0.012\n",
      "===========================\n",
      "This cell takes 34.62859082221985 seconds to run.\n"
     ]
    }
   ],
   "source": [
    "start_time = time.time()\n",
    "lambda_value = Lasso_find_best(X_train, y_train, 10, np.arange(0,10,0.001), to_print = True)\n",
    "print(\"===========================\")\n",
    "print(\"This cell takes %s seconds to run.\" % (time.time() - start_time))"
   ]
  },
  {
   "cell_type": "code",
   "execution_count": 23,
   "id": "960aa50c",
   "metadata": {},
   "outputs": [
    {
     "name": "stdout",
     "output_type": "stream",
     "text": [
      "Coefficients:  [-1.09769331e-01  3.10203944e-02  2.34159629e-02  2.53148877e+00\n",
      " -1.30218325e+01  4.43089807e+00 -9.48304351e-03 -1.38034810e+00\n",
      "  2.50932526e-01 -1.09450959e-02 -8.70828561e-01  1.26108482e-02\n",
      " -5.20051246e-01]\n",
      "number of nonzeros in θ:  13\n",
      "Mean-Squared Error: 23.61884\n"
     ]
    }
   ],
   "source": [
    "reg = linear_model.Lasso(alpha = lambda_value) # Fill in alpha\n",
    "reg.fit(X_train,y_train)\n",
    "y_pred = reg.predict(X_test)\n",
    "print(\"Coefficients: \", reg.coef_)\n",
    "print(\"number of nonzeros in θ: \", np.count_nonzero(reg.coef_))\n",
    "print(\"Mean-Squared Error: %.5f\" % mean_squared_error(y_test, y_pred))"
   ]
  },
  {
   "cell_type": "code",
   "execution_count": null,
   "id": "d698ea1a",
   "metadata": {},
   "outputs": [],
   "source": []
  }
 ],
 "metadata": {
  "kernelspec": {
   "display_name": "Python 3 (ipykernel)",
   "language": "python",
   "name": "python3"
  },
  "language_info": {
   "codemirror_mode": {
    "name": "ipython",
    "version": 3
   },
   "file_extension": ".py",
   "mimetype": "text/x-python",
   "name": "python",
   "nbconvert_exporter": "python",
   "pygments_lexer": "ipython3",
   "version": "3.9.7"
  }
 },
 "nbformat": 4,
 "nbformat_minor": 5
}
