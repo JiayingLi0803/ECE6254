{
 "cells": [
  {
   "cell_type": "code",
   "execution_count": 1,
   "id": "513734a2",
   "metadata": {},
   "outputs": [],
   "source": [
    "import numpy as np\n",
    "from sklearn.datasets import load_boston\n",
    "from sklearn.model_selection import train_test_split, KFold, cross_val_score\n",
    "from sklearn import preprocessing\n",
    "from sklearn import linear_model\n",
    "from sklearn.metrics import mean_squared_error\n",
    "import time"
   ]
  },
  {
   "cell_type": "code",
   "execution_count": 2,
   "id": "60471577",
   "metadata": {},
   "outputs": [],
   "source": [
    "boston = load_boston()\n",
    "X = boston.data\n",
    "y = boston.target"
   ]
  },
  {
   "cell_type": "code",
   "execution_count": 9,
   "id": "1d8d6ca8",
   "metadata": {},
   "outputs": [],
   "source": [
    "# functions in Problem 1\n",
    "def MSE(theta_hat, A, y):\n",
    "    return 1/len(y)*np.sum(np.power(y-np.dot(A, theta_hat),2))\n",
    "def ridge_regression(A, y, lambd=0.2):\n",
    "    I = np.eye(A.shape[1])\n",
    "    I[0][0] = 0\n",
    "    return np.dot(np.dot(np.linalg.inv(np.dot(A.T, A)+lambd*I),A.T),y)\n",
    "def Ridge_find_best(X, y, kfold, lambdas, to_print = True):\n",
    "    kf = KFold(n_splits = kfold, shuffle = True)\n",
    "    best_lambda = 0\n",
    "    best_MSE = 100\n",
    "    for idx, lambda_value in enumerate(lambdas):\n",
    "        sum = 0\n",
    "        for train_index, holdout_index in kf.split(X):\n",
    "            Xtrain, Xholdout = X[train_index], X[holdout_index]\n",
    "            ytrain, yholdout = y[train_index], y[holdout_index]\n",
    "            Atrain = np.insert(Xtrain, 0, values = np.array([[1]*len(Xtrain)]), axis = 1)\n",
    "            Aholdout = np.insert(Xholdout, 0, values = np.array([[1]*len(Xholdout)]), axis = 1)\n",
    "            theta_kf = ridge_regression(Atrain, ytrain, lambd = lambda_value)\n",
    "            sum += MSE(theta_kf, Aholdout, yholdout)\n",
    "        MSE_now = sum/kfold\n",
    "        if MSE_now < best_MSE:\n",
    "            print(\"Current MSE: \", MSE_now, \"; Current lambda: \",lambda_value)\n",
    "            best_MSE = MSE_now\n",
    "            best_lambda = lambda_value\n",
    "    if to_print:\n",
    "        print(\"===========================\")\n",
    "        print(\"The best value of lambda is: \",best_lambda)\n",
    "    return best_lambda"
   ]
  },
  {
   "cell_type": "markdown",
   "id": "0f55507b",
   "metadata": {},
   "source": [
    "# Problem 2"
   ]
  },
  {
   "cell_type": "code",
   "execution_count": 21,
   "id": "fcb160a6",
   "metadata": {},
   "outputs": [],
   "source": [
    "np.random.seed(2017)\n",
    "n = 100\n",
    "xtrain = np.random.rand(n)\n",
    "ytrain = 0.25 + 0.5*xtrain + np.sqrt(0.1)*np.random.randn(n)\n",
    "idx = np.random.randint(0,100,10)\n",
    "ytrain[idx] = ytrain[idx] + np.random.randn(10)"
   ]
  },
  {
   "cell_type": "markdown",
   "id": "e2fc838c",
   "metadata": {},
   "source": [
    "## Step 1"
   ]
  },
  {
   "cell_type": "code",
   "execution_count": 22,
   "id": "e9226ba3",
   "metadata": {},
   "outputs": [
    {
     "name": "stdout",
     "output_type": "stream",
     "text": [
      "Current MSE:  0.14905081014734065 ; Current lambda:  0.0\n",
      "Current MSE:  0.14834804803182666 ; Current lambda:  0.0006000000000000001\n",
      "Current MSE:  0.14828096083651005 ; Current lambda:  0.0011\n",
      "Current MSE:  0.14807429742526484 ; Current lambda:  0.021\n",
      "Current MSE:  0.14747540851291202 ; Current lambda:  0.025400000000000002\n",
      "Current MSE:  0.14712390795883654 ; Current lambda:  0.0646\n",
      "Current MSE:  0.14702922191346646 ; Current lambda:  0.2043\n",
      "Current MSE:  0.14695466541301808 ; Current lambda:  0.6183000000000001\n",
      "Current MSE:  0.14691690442356126 ; Current lambda:  0.6947\n",
      "===========================\n",
      "The best value of lambda is:  0.6947\n"
     ]
    }
   ],
   "source": [
    "X_train = xtrain.reshape(-1,1)\n",
    "lambda_value = Ridge_find_best(X_train, ytrain, 10, np.arange(0,1,0.0001), to_print = True)"
   ]
  },
  {
   "cell_type": "code",
   "execution_count": 11,
   "id": "8ec312a1",
   "metadata": {},
   "outputs": [
    {
     "name": "stdout",
     "output_type": "stream",
     "text": [
      "Mean-Squared Error:  0.1456883625019879\n",
      "Slope:  0.29663654687134855\n",
      "Intercept:  0.2750776792779469\n"
     ]
    }
   ],
   "source": [
    "Atrain = np.insert(X_train, 0, values = np.array([[1]*len(xtrain)]), axis = 1)\n",
    "theta_r2 = ridge_regression(Atrain, ytrain, lambd=lambda_value)\n",
    "print(\"Mean-Squared Error: \", MSE(theta_r2, Atrain, ytrain))\n",
    "print(\"Slope: \", theta_r2[0])\n",
    "print(\"Intercept: \", theta_r2[1])"
   ]
  },
  {
   "cell_type": "markdown",
   "id": "999eb4f8",
   "metadata": {},
   "source": [
    "## Step 2"
   ]
  },
  {
   "cell_type": "markdown",
   "id": "27413228",
   "metadata": {},
   "source": [
    "### a. Take example of $\\epsilon = 1.35$ and $\\alpha = 0.001$"
   ]
  },
  {
   "cell_type": "code",
   "execution_count": 12,
   "id": "d02f2161",
   "metadata": {},
   "outputs": [
    {
     "name": "stdout",
     "output_type": "stream",
     "text": [
      "Coefficients:  [0.34358241]\n",
      "intercept:  0.26703906607398287\n",
      "Mean-Squared Error: 0.15\n"
     ]
    }
   ],
   "source": [
    "reg = linear_model.HuberRegressor(epsilon = 1.35, alpha=0.001)\n",
    "reg.fit(xtrain.reshape(-1, 1),ytrain)\n",
    "ypred = reg.predict(xtrain.reshape(-1, 1))\n",
    "print(\"Coefficients: \", reg.coef_)\n",
    "print(\"intercept: \", reg.intercept_)\n",
    "print(\"Mean-Squared Error: %.2f\" % mean_squared_error(ytrain, ypred))"
   ]
  },
  {
   "cell_type": "markdown",
   "id": "0af38098",
   "metadata": {},
   "source": [
    "### b. Find the best $\\epsilon$ and $\\alpha$ value"
   ]
  },
  {
   "cell_type": "code",
   "execution_count": 13,
   "id": "65b7a5e4",
   "metadata": {},
   "outputs": [],
   "source": [
    "def Huber_find_best(X, y, kfold, epsilons, alphas, to_print = True):\n",
    "    kf = KFold(n_splits = kfold, shuffle = True)\n",
    "    best_epsilon, best_alpha = 0, 0\n",
    "    best_MSE = 100\n",
    "    for idxe, epsilon_value in enumerate(epsilons):\n",
    "        for idxa, alpha_value in enumerate(alphas):\n",
    "            sum = 0\n",
    "            for train_index, holdout_index in kf.split(X):\n",
    "                Xtrain, Xholdout = X[train_index], X[holdout_index]\n",
    "                ytrain, yholdout = y[train_index], y[holdout_index]\n",
    "                reg = linear_model.HuberRegressor(epsilon = epsilon_value, alpha=alpha_value)\n",
    "                reg.fit(Xtrain,ytrain)\n",
    "                ypred = reg.predict(Xholdout)\n",
    "                sum += mean_squared_error(yholdout, ypred)\n",
    "            MSE_now = sum/kfold\n",
    "            if MSE_now < best_MSE:\n",
    "                print(\"Current MSE: \",MSE_now,\"; Current epsilon: \",epsilon_value,\"; Current alpha: \",alpha_value)\n",
    "                best_MSE = MSE_now\n",
    "                best_epsilon = epsilon_value\n",
    "                best_alpha = alpha_value\n",
    "    if to_print:\n",
    "        print(\"===========================\")\n",
    "        print(\"The best value of epsilon is: \", best_epsilon)\n",
    "        print(\"The best value of alpha is: \", best_alpha)\n",
    "    return [best_epsilon, best_alpha]"
   ]
  },
  {
   "cell_type": "code",
   "execution_count": 14,
   "id": "ecb9cfbd",
   "metadata": {},
   "outputs": [],
   "source": [
    "# generate test data\n",
    "np.random.seed(2020)\n",
    "m = 100\n",
    "xtest = np.random.rand(m)\n",
    "ytest = 0.25 + 0.5*xtest + np.sqrt(0.1)*np.random.randn(m)\n",
    "idx = np.random.randint(0,100,10)\n",
    "ytest[idx] = ytest[idx] + np.random.randn(10)"
   ]
  },
  {
   "cell_type": "code",
   "execution_count": 20,
   "id": "323ea4d3",
   "metadata": {},
   "outputs": [
    {
     "name": "stdout",
     "output_type": "stream",
     "text": [
      "Current MSE:  0.15205083065806316 ; Current epsilon:  1.01 ; Current alpha:  0.0\n",
      "Current MSE:  0.1462254497559515 ; Current epsilon:  1.01 ; Current alpha:  0.03\n",
      "Current MSE:  0.14512746614333846 ; Current epsilon:  1.01 ; Current alpha:  0.11\n",
      "Current MSE:  0.1444861398135839 ; Current epsilon:  1.01 ; Current alpha:  0.6\n",
      "Current MSE:  0.14436405875075128 ; Current epsilon:  1.02 ; Current alpha:  2.86\n",
      "Current MSE:  0.14389530733722422 ; Current epsilon:  1.03 ; Current alpha:  1.07\n",
      "Current MSE:  0.14365433213589848 ; Current epsilon:  1.06 ; Current alpha:  0.14\n",
      "Current MSE:  0.14355881757834996 ; Current epsilon:  1.1 ; Current alpha:  1.42\n",
      "===========================\n",
      "The best value of epsilon is:  1.1\n",
      "The best value of alpha is:  1.42\n",
      "===========================\n",
      "Coefficients:  [0.43724164]\n",
      "intercept:  0.27018732193237704\n",
      "Mean-Squared Error: 0.18\n",
      "===========================\n",
      "This cell takes 242.35617780685425 seconds to run.\n"
     ]
    }
   ],
   "source": [
    "# This cell takes 4 minutes to run.\n",
    "start_time = time.time()\n",
    "[best_epsilon, best_alpha] = Huber_find_best(X_train, ytrain, 3, np.arange(1.01,2,0.01), np.arange(0,5,0.01))\n",
    "reg = linear_model.HuberRegressor(epsilon = best_epsilon, alpha=best_alpha)\n",
    "reg.fit(xtest.reshape(-1, 1),ytest)\n",
    "ypred = reg.predict(xtest.reshape(-1, 1))\n",
    "print(\"===========================\")\n",
    "print(\"Coefficients: \", reg.coef_)\n",
    "print(\"intercept: \", reg.intercept_)\n",
    "print(\"Mean-Squared Error: %.2f\" % mean_squared_error(ytest, ypred))\n",
    "print(\"===========================\")\n",
    "print(\"This cell takes %s seconds to run.\" % (time.time() - start_time))"
   ]
  },
  {
   "cell_type": "code",
   "execution_count": null,
   "id": "1fd0200c",
   "metadata": {},
   "outputs": [],
   "source": []
  }
 ],
 "metadata": {
  "kernelspec": {
   "display_name": "Python 3 (ipykernel)",
   "language": "python",
   "name": "python3"
  },
  "language_info": {
   "codemirror_mode": {
    "name": "ipython",
    "version": 3
   },
   "file_extension": ".py",
   "mimetype": "text/x-python",
   "name": "python",
   "nbconvert_exporter": "python",
   "pygments_lexer": "ipython3",
   "version": "3.9.12"
  }
 },
 "nbformat": 4,
 "nbformat_minor": 5
}
